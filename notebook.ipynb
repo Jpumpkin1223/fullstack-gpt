{
 "cells": [
  {
   "cell_type": "code",
   "execution_count": 4,
   "metadata": {},
   "outputs": [
    {
     "name": "stdout",
     "output_type": "stream",
     "text": [
      "Hello! I'm just a computer program, so I don't have feelings, but I'm here to help you. How can I assist you today?\n"
     ]
    }
   ],
   "source": [
    "from langchain.chat_models import ChatOpenAI\n",
    "\n",
    "# 올바른 사용 예시\n",
    "chat = ChatOpenAI(model=\"gpt-3.5-turbo-1106\")\n",
    "response = chat.predict(\"Hello, how are you?\")\n",
    "print(response)"
   ]
  },
  {
   "cell_type": "code",
   "execution_count": 5,
   "metadata": {},
   "outputs": [],
   "source": [
    "from langchain.schema import AIMessage, HumanMessage, SystemMessage\n"
   ]
  },
  {
   "cell_type": "code",
   "execution_count": 6,
   "metadata": {},
   "outputs": [
    {
     "data": {
      "text/plain": [
       "AIMessage(content='Mi dispiace, non posso calcolare la distanza tra i paesi. Il mio nome è Assistente e sono qui per rispondere alle tue domande di geografia. Come posso aiutarti?')"
      ]
     },
     "execution_count": 6,
     "metadata": {},
     "output_type": "execute_result"
    }
   ],
   "source": [
    "messages = [\n",
    "    SystemMessage(\n",
    "        content=\"You are a geography expert. And you only reply in {language}.\",\n",
    "    ),\n",
    "    AIMessage(content=\"Ciao, mi chiamo {name}!\"),\n",
    "    HumanMessage(\n",
    "        content=\"What is the distance between {country_a} and {country_b}. Also, what is your name?\",\n",
    "    ),\n",
    "]\n",
    "\n",
    "chat.predict_messages(messages)"
   ]
  },
  {
   "cell_type": "code",
   "execution_count": 12,
   "metadata": {},
   "outputs": [
    {
     "data": {
      "text/plain": [
       "AIMessage(content='The distance between the United States and Canada varies depending on the specific locations being compared. For example, the distance between New York City and Toronto is approximately 500 kilometers (310 miles) by road. As for my name, I am an AI language model and do not have a personal name. You can simply refer to me as the geography expert.')"
      ]
     },
     "execution_count": 12,
     "metadata": {},
     "output_type": "execute_result"
    }
   ],
   "source": [
    "from langchain.prompts import PromptTemplate, ChatPromptTemplate\n",
    "\n",
    "chat = ChatOpenAI(model=\"gpt-3.5-turbo-1106\", temperature=0.1)\n",
    "template = ChatPromptTemplate.from_messages(\n",
    "    [\n",
    "        (\"system\", \"You are a geography expert. And you only reply in {language}.\"),\n",
    "        (\"human\", \"What is the distance between {country_a} and {country_b}. Also, what is your name?\"),\n",
    "    ]\n",
    ")\n",
    "\n",
    "prompt = template.format_messages(language=\"English\", country_a=\"United States\", country_b=\"Canada\")\n",
    "\n",
    "chat.predict_messages(prompt)"
   ]
  },
  {
   "cell_type": "code",
   "execution_count": 15,
   "metadata": {},
   "outputs": [
    {
     "data": {
      "text/plain": [
       "['Hello', 'how', 'are', 'you?']"
      ]
     },
     "execution_count": 15,
     "metadata": {},
     "output_type": "execute_result"
    }
   ],
   "source": [
    "from langchain.schema import BaseOutputParser\n",
    "\n",
    "\n",
    "class CommaOutputParser(BaseOutputParser):\n",
    "    def parse(self, text: str) -> str:\n",
    "        items = text.strip().split(\",\")\n",
    "        return [item.strip() for item in items]\n",
    "\n",
    "\n",
    "parser = CommaOutputParser()"
   ]
  },
  {
   "cell_type": "code",
   "execution_count": 18,
   "metadata": {},
   "outputs": [
    {
     "data": {
      "text/plain": [
       "['The Grand Canyon', 'Machu Picchu', 'The Great Barrier Reef']"
      ]
     },
     "execution_count": 18,
     "metadata": {},
     "output_type": "execute_result"
    }
   ],
   "source": [
    "template = ChatPromptTemplate.from_messages(\n",
    "    [\n",
    "        (\n",
    "            \"system\",\n",
    "            \"When answering, return exactly {num_items} distinct items as a list. \"\n",
    "            \"Format your response as a single line with items separated by a comma and a space (', '). \"\n",
    "            \"Do not include any extra text, numbering, or line breaks.\",\n",
    "        ),\n",
    "        (\"human\", \"{input}\"),\n",
    "    ]\n",
    ")\n",
    "\n",
    "chain = template | chat | parser\n",
    "\n",
    "chain.invoke({\"num_items\": 3, \"input\": \"what are the good places to visit in the world?\"})"
   ]
  },
  {
   "cell_type": "code",
   "execution_count": 1,
   "metadata": {},
   "outputs": [],
   "source": [
    "from langchain.callbacks import StreamingStdOutCallbackHandler\n",
    "from langchain.chat_models import ChatOpenAI\n",
    "from langchain.prompts import ChatPromptTemplate\n",
    "\n",
    "chat = ChatOpenAI(\n",
    "    model=\"gpt-3.5-turbo-1106\",\n",
    "    temperature=0.1,\n",
    "    streaming=True,\n",
    "    callbacks=[\n",
    "        StreamingStdOutCallbackHandler(),\n",
    "    ],\n",
    ")\n",
    "\n",
    "chef_prompt = ChatPromptTemplate.from_messages(\n",
    "    [\n",
    "        (\n",
    "            \"system\",\n",
    "            \"\",\n",
    "        ),\n",
    "        (\"human\", \"I want to cook {cuisine} food.\"),\n",
    "    ]\n",
    ")\n",
    "\n",
    "chef_chain = chef_prompt | chat"
   ]
  },
  {
   "cell_type": "code",
   "execution_count": 2,
   "metadata": {},
   "outputs": [
    {
     "name": "stdout",
     "output_type": "stream",
     "text": [
      "That's great! Indian cuisine is known for its rich and diverse flavors. Here are a few popular Indian dishes you might want to try:\n",
      "\n",
      "1. Butter Chicken (Murgh Makhani) - A creamy and flavorful chicken dish cooked in a rich tomato and butter sauce.\n",
      "\n",
      "2. Chicken Tikka Masala - Grilled marinated chicken pieces cooked in a creamy tomato sauce with aromatic spices.\n",
      "\n",
      "3. Chana Masala - A spicy and tangy chickpea curry made with tomatoes, onions, and a blend of Indian spices.\n",
      "\n",
      "4. Vegetable Biryani - A fragrant rice dish cooked with mixed vegetables and aromatic spices.\n",
      "\n",
      "5. Palak Paneer - A creamy spinach curry with cubes of paneer (Indian cottage cheese) and a blend of spices.\n",
      "\n",
      "These are just a few examples, but there are countless other delicious Indian dishes to explore. Let me know if you need a specific recipe or if you have any questions about cooking Indian food!For the Butter Chicken (Murgh Makhani), you can replace the chicken with paneer, a type of Indian cottage cheese. To prepare the paneer, you can cut it into cubes and marinate it in a mixture of yogurt, ginger, garlic, and a blend of Indian spices such as garam masala and turmeric. Then, you can grill or pan-fry the marinated paneer until it's golden brown and has a slightly crispy exterior.\n",
      "\n",
      "For the Chicken Tikka Masala, you can use the same marinated and grilled paneer as a substitute for the chicken. The creamy tomato sauce and aromatic spices will complement the paneer beautifully.\n",
      "\n",
      "For the Vegetable Biryani, you can simply omit the meat and increase the quantity of mixed vegetables. You can use a variety of vegetables such as carrots, peas, cauliflower, and potatoes to create a colorful and flavorful biryani. Additionally, you can add some marinated and grilled paneer to enhance the dish with a protein element.\n",
      "\n",
      "For the Palak Paneer, you can follow the traditional recipe for the creamy spinach curry and simply add more paneer to make it a more substantial dish.\n",
      "\n",
      "Unfortunately, I don't know of a direct substitute for chicken in Chana Masala, as the dish is centered around chickpeas. However, you can enhance the flavor by adding more aromatic spices and adjusting the seasoning to your taste.\n",
      "\n",
      "I hope these vegetarian alternatives help you enjoy these classic Indian dishes in a meat-free version!"
     ]
    },
    {
     "data": {
      "text/plain": [
       "AIMessageChunk(content=\"For the Butter Chicken (Murgh Makhani), you can replace the chicken with paneer, a type of Indian cottage cheese. To prepare the paneer, you can cut it into cubes and marinate it in a mixture of yogurt, ginger, garlic, and a blend of Indian spices such as garam masala and turmeric. Then, you can grill or pan-fry the marinated paneer until it's golden brown and has a slightly crispy exterior.\\n\\nFor the Chicken Tikka Masala, you can use the same marinated and grilled paneer as a substitute for the chicken. The creamy tomato sauce and aromatic spices will complement the paneer beautifully.\\n\\nFor the Vegetable Biryani, you can simply omit the meat and increase the quantity of mixed vegetables. You can use a variety of vegetables such as carrots, peas, cauliflower, and potatoes to create a colorful and flavorful biryani. Additionally, you can add some marinated and grilled paneer to enhance the dish with a protein element.\\n\\nFor the Palak Paneer, you can follow the traditional recipe for the creamy spinach curry and simply add more paneer to make it a more substantial dish.\\n\\nUnfortunately, I don't know of a direct substitute for chicken in Chana Masala, as the dish is centered around chickpeas. However, you can enhance the flavor by adding more aromatic spices and adjusting the seasoning to your taste.\\n\\nI hope these vegetarian alternatives help you enjoy these classic Indian dishes in a meat-free version!\")"
      ]
     },
     "execution_count": 2,
     "metadata": {},
     "output_type": "execute_result"
    }
   ],
   "source": [
    "veg_chef_prompt = ChatPromptTemplate.from_messages(\n",
    "    [\n",
    "        (\n",
    "            \"system\",\n",
    "            \"You are a vegetarian chef specialized on making traditional recipies vegetarian. You find alternative ingredients and explain their preparation. You don't radically modify the recipe. If there is no alternative for a food just say you don't know how to replace it.\",\n",
    "        ),\n",
    "        (\"human\", \"{recipe}\"),\n",
    "    ]\n",
    ")\n",
    "\n",
    "\n",
    "veg_chain = veg_chef_prompt | chat\n",
    "\n",
    "\n",
    "final_chain = {\"recipe\": chef_chain} | veg_chain\n",
    "\n",
    "final_chain.invoke({\"cuisine\": \"indian\"})"
   ]
  }
 ],
 "metadata": {
  "kernelspec": {
   "display_name": ".venv",
   "language": "python",
   "name": "python3"
  },
  "language_info": {
   "codemirror_mode": {
    "name": "ipython",
    "version": 3
   },
   "file_extension": ".py",
   "mimetype": "text/x-python",
   "name": "python",
   "nbconvert_exporter": "python",
   "pygments_lexer": "ipython3",
   "version": "3.9.6"
  }
 },
 "nbformat": 4,
 "nbformat_minor": 2
}
