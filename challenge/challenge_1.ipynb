{
 "cells": [
  {
   "cell_type": "code",
   "execution_count": 4,
   "metadata": {},
   "outputs": [],
   "source": [
    "from langchain.callbacks import StreamingStdOutCallbackHandler\n",
    "from langchain.chat_models import ChatOpenAI\n",
    "from langchain.prompts import ChatPromptTemplate\n",
    "\n",
    "chat = ChatOpenAI(\n",
    "    model=\"gpt-3.5-turbo-1106\",\n",
    "    temperature=0.1,\n",
    "    streaming=True,\n",
    "    callbacks=[StreamingStdOutCallbackHandler()],\n",
    ")\n",
    "\n",
    "poem_prompt = ChatPromptTemplate.from_messages(\n",
    "    [\n",
    "        (\n",
    "            \"system\",\n",
    "            \"You are a talented poet specialized in writing poems about programming languages. \"\n",
    "            \"Express the characteristics, history, or imagery associated with the given programming language in a creative poem.\",\n",
    "        ),\n",
    "        (\n",
    "            \"human\",\n",
    "            \"Please write a poem about {language}.\",\n",
    "        ),\n",
    "    ]\n",
    ")\n",
    "poem_chain = poem_prompt | chat"
   ]
  },
  {
   "cell_type": "code",
   "execution_count": 5,
   "metadata": {},
   "outputs": [],
   "source": [
    "description_prompt = ChatPromptTemplate.from_messages(\n",
    "    [\n",
    "        (\n",
    "            \"system\",\n",
    "            \"You are an outstanding literary critic skilled in analyzing poetry. \"\n",
    "            \"Analyze the provided poem and explain its themes, imagery, and relation to the programming language. \"\n",
    "            \"Your response should be divided into two parts: the first part starts with 'Poem:' showing the original poem, \"\n",
    "            \"and the second part starts with 'Description:' offering your analysis.\",\n",
    "        ),\n",
    "        (\n",
    "            \"human\",\n",
    "            \"Analyze the following poem: {poem}\",\n",
    "        ),\n",
    "    ]\n",
    ")\n",
    "description_chain = description_prompt | chat"
   ]
  },
  {
   "cell_type": "code",
   "execution_count": 6,
   "metadata": {},
   "outputs": [
    {
     "name": "stdout",
     "output_type": "stream",
     "text": [
      "In the land of code, where serpents slither,\n",
      "Lies a language known for its elegance and dither.\n",
      "Python, the graceful, the versatile, the wise,\n",
      "With syntax so clean, it soars through the skies.\n",
      "\n",
      "Borne from the mind of Guido van Rossum,\n",
      "It emerged in the 90s, a language so awesome.\n",
      "Its readability and simplicity, a sight to behold,\n",
      "Like a python coiled, in elegance, it's bold.\n",
      "\n",
      "Indentation is key, in Python's domain,\n",
      "No curly braces, just whitespace to maintain.\n",
      "From web development to data science's might,\n",
      "Python's versatility shines so bright.\n",
      "\n",
      "Libraries galore, like a treasure trove,\n",
      "NumPy, Pandas, and Django, it's love.\n",
      "Machine learning, AI, and automation's song,\n",
      "Python's capabilities, oh so strong.\n",
      "\n",
      "Like a python, it wraps around tasks with ease,\n",
      "Its community vibrant, a symphony of expertise.\n",
      "In the world of programming, Python stands tall,\n",
      "A language of beauty, embracing all.\n",
      "\n",
      "So here's to Python, the language so grand,\n",
      "In the realm of code, it's the finest in the land.\n",
      "With elegance and power, it continues to thrive,\n",
      "Python, the language that makes us feel alive.Poem:\n",
      "In the land of code, where serpents slither,\n",
      "Lies a language known for its elegance and dither.\n",
      "Python, the graceful, the versatile, the wise,\n",
      "With syntax so clean, it soars through the skies.\n",
      "\n",
      "Borne from the mind of Guido van Rossum,\n",
      "It emerged in the 90s, a language so awesome.\n",
      "Its readability and simplicity, a sight to behold,\n",
      "Like a python coiled, in elegance, it's bold.\n",
      "\n",
      "Indentation is key, in Python's domain,\n",
      "No curly braces, just whitespace to maintain.\n",
      "From web development to data science's might,\n",
      "Python's versatility shines so bright.\n",
      "\n",
      "Libraries galore, like a treasure trove,\n",
      "NumPy, Pandas, and Django, it's love.\n",
      "Machine learning, AI, and automation's song,\n",
      "Python's capabilities, oh so strong.\n",
      "\n",
      "Like a python, it wraps around tasks with ease,\n",
      "Its community vibrant, a symphony of expertise.\n",
      "In the world of programming, Python stands tall,\n",
      "A language of beauty, embracing all.\n",
      "\n",
      "So here's to Python, the language so grand,\n",
      "In the realm of code, it's the finest in the land.\n",
      "With elegance and power, it continues to thrive,\n",
      "Python, the language that makes us feel alive.\n",
      "\n",
      "Description:\n",
      "The poem \"Python, the Language of Elegance\" celebrates the programming language Python, using vivid imagery and poetic language to convey its themes and characteristics.\n",
      "\n",
      "Themes: The poem explores themes of elegance, versatility, power, and community. It portrays Python as a graceful and wise language, emphasizing its readability, simplicity, and capabilities in various domains such as web development, data science, machine learning, and automation. The poem also highlights the vibrant and supportive community surrounding Python, symbolizing a symphony of expertise.\n",
      "\n",
      "Imagery: The poem employs rich imagery, likening Python to a python snake, emphasizing its elegance, boldness, and ability to wrap around tasks with ease. The use of \"serpents slither\" and \"Python, the graceful\" creates a visual and sensory experience, evoking the language's smooth and agile nature. Additionally, the reference to \"treasure trove\" of libraries and the language \"soaring through the skies\" paints a picture of abundance and boundless potential.\n",
      "\n",
      "Relation to Programming Language: The poem effectively captures the essence of Python as a programming language. It highlights Python's distinctive features such as its clean syntax, emphasis on indentation, and the absence of curly braces. The references to specific libraries like NumPy, Pandas, and Django showcase Python's extensive ecosystem and its applications in data science and web development. Furthermore, the poem conveys the language's adaptability and its role as a unifying force in the world of programming.\n",
      "\n",
      "Overall, \"Python, the Language of Elegance\" beautifully encapsulates the allure and impact of Python as a programming language, celebrating its elegance, power, and enduring influence."
     ]
    },
    {
     "data": {
      "text/plain": [
       "AIMessageChunk(content='Poem:\\nIn the land of code, where serpents slither,\\nLies a language known for its elegance and dither.\\nPython, the graceful, the versatile, the wise,\\nWith syntax so clean, it soars through the skies.\\n\\nBorne from the mind of Guido van Rossum,\\nIt emerged in the 90s, a language so awesome.\\nIts readability and simplicity, a sight to behold,\\nLike a python coiled, in elegance, it\\'s bold.\\n\\nIndentation is key, in Python\\'s domain,\\nNo curly braces, just whitespace to maintain.\\nFrom web development to data science\\'s might,\\nPython\\'s versatility shines so bright.\\n\\nLibraries galore, like a treasure trove,\\nNumPy, Pandas, and Django, it\\'s love.\\nMachine learning, AI, and automation\\'s song,\\nPython\\'s capabilities, oh so strong.\\n\\nLike a python, it wraps around tasks with ease,\\nIts community vibrant, a symphony of expertise.\\nIn the world of programming, Python stands tall,\\nA language of beauty, embracing all.\\n\\nSo here\\'s to Python, the language so grand,\\nIn the realm of code, it\\'s the finest in the land.\\nWith elegance and power, it continues to thrive,\\nPython, the language that makes us feel alive.\\n\\nDescription:\\nThe poem \"Python, the Language of Elegance\" celebrates the programming language Python, using vivid imagery and poetic language to convey its themes and characteristics.\\n\\nThemes: The poem explores themes of elegance, versatility, power, and community. It portrays Python as a graceful and wise language, emphasizing its readability, simplicity, and capabilities in various domains such as web development, data science, machine learning, and automation. The poem also highlights the vibrant and supportive community surrounding Python, symbolizing a symphony of expertise.\\n\\nImagery: The poem employs rich imagery, likening Python to a python snake, emphasizing its elegance, boldness, and ability to wrap around tasks with ease. The use of \"serpents slither\" and \"Python, the graceful\" creates a visual and sensory experience, evoking the language\\'s smooth and agile nature. Additionally, the reference to \"treasure trove\" of libraries and the language \"soaring through the skies\" paints a picture of abundance and boundless potential.\\n\\nRelation to Programming Language: The poem effectively captures the essence of Python as a programming language. It highlights Python\\'s distinctive features such as its clean syntax, emphasis on indentation, and the absence of curly braces. The references to specific libraries like NumPy, Pandas, and Django showcase Python\\'s extensive ecosystem and its applications in data science and web development. Furthermore, the poem conveys the language\\'s adaptability and its role as a unifying force in the world of programming.\\n\\nOverall, \"Python, the Language of Elegance\" beautifully encapsulates the allure and impact of Python as a programming language, celebrating its elegance, power, and enduring influence.')"
      ]
     },
     "execution_count": 6,
     "metadata": {},
     "output_type": "execute_result"
    }
   ],
   "source": [
    "final_chain = {\"poem\": poem_chain} | description_chain\n",
    "\n",
    "final_chain.invoke({\"language\": \"Python\"})"
   ]
  }
 ],
 "metadata": {
  "kernelspec": {
   "display_name": ".venv",
   "language": "python",
   "name": "python3"
  },
  "language_info": {
   "codemirror_mode": {
    "name": "ipython",
    "version": 3
   },
   "file_extension": ".py",
   "mimetype": "text/x-python",
   "name": "python",
   "nbconvert_exporter": "python",
   "pygments_lexer": "ipython3",
   "version": "3.9.6"
  }
 },
 "nbformat": 4,
 "nbformat_minor": 2
}
